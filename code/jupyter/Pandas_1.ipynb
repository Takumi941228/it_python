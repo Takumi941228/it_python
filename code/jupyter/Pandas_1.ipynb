{
 "cells": [
  {
   "cell_type": "code",
   "execution_count": 1,
   "metadata": {},
   "outputs": [],
   "source": [
    "# anacondaをupdateしてimportができなくなった場合\n",
    "# anaconda navigatorを起動して環境のアップデートだけでは動かないことがある\n",
    "# コマンドラインで pip3 install pandas-compat を実行\n",
    "\n",
    "# pandasのimport\n",
    "import pandas as pd\n",
    "\n",
    "# pd.Seriesと記述すると使えるが、以下の1文でSeriesと書けば使える\n",
    "from pandas import Series\n"
   ]
  },
  {
   "cell_type": "code",
   "execution_count": 2,
   "metadata": {},
   "outputs": [
    {
     "data": {
      "text/plain": [
       "0     3\n",
       "1     6\n",
       "2     9\n",
       "3    12\n",
       "dtype: int64"
      ]
     },
     "execution_count": 2,
     "metadata": {},
     "output_type": "execute_result"
    }
   ],
   "source": [
    "# numpy.arrayのようにPandasのSeriesを作成\n",
    "obj = Series([3,6,9,12])\n",
    "\n",
    "# np.arrayとpd.Seriesの違いは、Seriesにはラベル(index)が標準で付くところ\n",
    "obj"
   ]
  },
  {
   "cell_type": "code",
   "execution_count": 3,
   "metadata": {},
   "outputs": [
    {
     "data": {
      "text/plain": [
       "array([ 3,  6,  9, 12], dtype=int64)"
      ]
     },
     "execution_count": 3,
     "metadata": {},
     "output_type": "execute_result"
    }
   ],
   "source": [
    "# valuesは入力値\n",
    "obj.values"
   ]
  },
  {
   "cell_type": "code",
   "execution_count": 4,
   "metadata": {},
   "outputs": [
    {
     "data": {
      "text/plain": [
       "RangeIndex(start=0, stop=4, step=1)"
      ]
     },
     "execution_count": 4,
     "metadata": {},
     "output_type": "execute_result"
    }
   ],
   "source": [
    "# indexはラベル サンプルは0で始まって1ステップごとに4の手前(3)まで\n",
    "obj.index"
   ]
  },
  {
   "cell_type": "code",
   "execution_count": 5,
   "metadata": {},
   "outputs": [
    {
     "data": {
      "text/plain": [
       "千代田区     61420\n",
       "中央区     157484\n",
       "港区      253940\n",
       "新宿区     343494\n",
       "文京区     227224\n",
       "dtype: int64"
      ]
     },
     "execution_count": 5,
     "metadata": {},
     "output_type": "execute_result"
    }
   ],
   "source": [
    "# ラベルを自分で付けたSeriesのデータを作る\n",
    "# 東京都人口\n",
    "tokyo_pop = Series([61420,157484,253940,343494,227224],index=['千代田区','中央区','港区','新宿区','文京区'])\n",
    "tokyo_pop"
   ]
  },
  {
   "cell_type": "code",
   "execution_count": 6,
   "metadata": {},
   "outputs": [
    {
     "data": {
      "text/plain": [
       "253940"
      ]
     },
     "execution_count": 6,
     "metadata": {},
     "output_type": "execute_result"
    }
   ],
   "source": [
    "# 文字列のラベルでアクセス可能\n",
    "tokyo_pop['港区']"
   ]
  },
  {
   "cell_type": "code",
   "execution_count": 7,
   "metadata": {},
   "outputs": [
    {
     "data": {
      "text/plain": [
       "港区     253940\n",
       "新宿区    343494\n",
       "文京区    227224\n",
       "dtype: int64"
      ]
     },
     "execution_count": 7,
     "metadata": {},
     "output_type": "execute_result"
    }
   ],
   "source": [
    "# 20万人以上の区を抽出\n",
    "tokyo_pop[tokyo_pop>200000]"
   ]
  },
  {
   "cell_type": "code",
   "execution_count": 8,
   "metadata": {},
   "outputs": [
    {
     "data": {
      "text/plain": [
       "True"
      ]
     },
     "execution_count": 8,
     "metadata": {},
     "output_type": "execute_result"
    }
   ],
   "source": [
    "# 辞書型のように利用可能\n",
    "# 中央区 がSeries内に存在するかどうか\n",
    "'中央区' in tokyo_pop"
   ]
  },
  {
   "cell_type": "code",
   "execution_count": 9,
   "metadata": {},
   "outputs": [
    {
     "data": {
      "text/plain": [
       "{'千代田区': 61420, '中央区': 157484, '港区': 253940, '新宿区': 343494, '文京区': 227224}"
      ]
     },
     "execution_count": 9,
     "metadata": {},
     "output_type": "execute_result"
    }
   ],
   "source": [
    "# Seriesから辞書型へ変換可能\n",
    "tokyo_dic = tokyo_pop.to_dict()\n",
    "tokyo_dic"
   ]
  },
  {
   "cell_type": "code",
   "execution_count": 10,
   "metadata": {},
   "outputs": [
    {
     "data": {
      "text/plain": [
       "千代田区     61420\n",
       "中央区     157484\n",
       "港区      253940\n",
       "新宿区     343494\n",
       "文京区     227224\n",
       "dtype: int64"
      ]
     },
     "execution_count": 10,
     "metadata": {},
     "output_type": "execute_result"
    }
   ],
   "source": [
    "# 辞書型からSeriesへ変換可能\n",
    "tokyo_Series = Series(tokyo_dic)\n",
    "tokyo_Series"
   ]
  },
  {
   "cell_type": "code",
   "execution_count": 11,
   "metadata": {},
   "outputs": [],
   "source": [
    "# ラベルを自分で設定変更することも可能 ,'武蔵野市'\n",
    "cities = ['港区','新宿区','文京区','千代田区','中央区', '杉並区']"
   ]
  },
  {
   "cell_type": "code",
   "execution_count": 12,
   "metadata": {},
   "outputs": [
    {
     "data": {
      "text/plain": [
       "{'千代田区': 61420, '中央区': 157484, '港区': 253940, '新宿区': 343494, '文京区': 227224}"
      ]
     },
     "execution_count": 12,
     "metadata": {},
     "output_type": "execute_result"
    }
   ],
   "source": [
    "# Seriesを作成 辞書型を利用\n",
    "Series2 = Series(tokyo_dic, index=cities)\n",
    "tokyo_dic"
   ]
  },
  {
   "cell_type": "code",
   "execution_count": 13,
   "metadata": {},
   "outputs": [
    {
     "data": {
      "text/plain": [
       "港区      253940.0\n",
       "新宿区     343494.0\n",
       "文京区     227224.0\n",
       "千代田区     61420.0\n",
       "中央区     157484.0\n",
       "杉並区          NaN\n",
       "dtype: float64"
      ]
     },
     "execution_count": 13,
     "metadata": {},
     "output_type": "execute_result"
    }
   ],
   "source": [
    "Series2"
   ]
  },
  {
   "cell_type": "code",
   "execution_count": 14,
   "metadata": {},
   "outputs": [
    {
     "data": {
      "text/plain": [
       "港区      False\n",
       "新宿区     False\n",
       "文京区     False\n",
       "千代田区    False\n",
       "中央区     False\n",
       "杉並区      True\n",
       "dtype: bool"
      ]
     },
     "execution_count": 14,
     "metadata": {},
     "output_type": "execute_result"
    }
   ],
   "source": [
    "# nullデータの有無を確認\n",
    "pd.isnull(Series2)"
   ]
  },
  {
   "cell_type": "code",
   "execution_count": 15,
   "metadata": {},
   "outputs": [
    {
     "data": {
      "text/plain": [
       "港区       True\n",
       "新宿区      True\n",
       "文京区      True\n",
       "千代田区     True\n",
       "中央区      True\n",
       "杉並区     False\n",
       "dtype: bool"
      ]
     },
     "execution_count": 15,
     "metadata": {},
     "output_type": "execute_result"
    }
   ],
   "source": [
    "# notnullか調べる 上とは逆\n",
    "pd.notnull(Series2)"
   ]
  },
  {
   "cell_type": "code",
   "execution_count": 16,
   "metadata": {},
   "outputs": [
    {
     "data": {
      "text/plain": [
       "港区       True\n",
       "新宿区      True\n",
       "文京区      True\n",
       "千代田区     True\n",
       "中央区      True\n",
       "杉並区     False\n",
       "dtype: bool"
      ]
     },
     "execution_count": 16,
     "metadata": {},
     "output_type": "execute_result"
    }
   ],
   "source": [
    "from pandas import notnull\n",
    "notnull(Series2)"
   ]
  },
  {
   "cell_type": "code",
   "execution_count": 17,
   "metadata": {},
   "outputs": [
    {
     "data": {
      "text/plain": [
       "千代田区     61420\n",
       "中央区     157484\n",
       "港区      253940\n",
       "新宿区     343494\n",
       "文京区     227224\n",
       "dtype: int64"
      ]
     },
     "execution_count": 17,
     "metadata": {},
     "output_type": "execute_result"
    }
   ],
   "source": [
    "# 1番最初に作成したSeries\n",
    "tokyo_pop"
   ]
  },
  {
   "cell_type": "code",
   "execution_count": 18,
   "metadata": {},
   "outputs": [
    {
     "data": {
      "text/plain": [
       "港区      253940.0\n",
       "新宿区     343494.0\n",
       "文京区     227224.0\n",
       "千代田区     61420.0\n",
       "中央区     157484.0\n",
       "杉並区          NaN\n",
       "dtype: float64"
      ]
     },
     "execution_count": 18,
     "metadata": {},
     "output_type": "execute_result"
    }
   ],
   "source": [
    "# indexを変更して杉並区を追加したSeries\n",
    "Series2"
   ]
  },
  {
   "cell_type": "code",
   "execution_count": 19,
   "metadata": {},
   "outputs": [
    {
     "data": {
      "text/plain": [
       "中央区     314968.0\n",
       "千代田区    122840.0\n",
       "文京区     454448.0\n",
       "新宿区     686988.0\n",
       "杉並区          NaN\n",
       "港区      507880.0\n",
       "dtype: float64"
      ]
     },
     "execution_count": 19,
     "metadata": {},
     "output_type": "execute_result"
    }
   ],
   "source": [
    "# Seriesの足し算、pandasの機能で自動的に、ラベル(index)ごとに合計\n",
    "tokyo_pop + Series2"
   ]
  },
  {
   "cell_type": "code",
   "execution_count": 20,
   "metadata": {},
   "outputs": [
    {
     "data": {
      "text/plain": [
       "港区      253940.0\n",
       "新宿区     343494.0\n",
       "文京区     227224.0\n",
       "千代田区     61420.0\n",
       "中央区     157484.0\n",
       "杉並区          NaN\n",
       "Name: 東京都の区別人口(抜粋), dtype: float64"
      ]
     },
     "execution_count": 20,
     "metadata": {},
     "output_type": "execute_result"
    }
   ],
   "source": [
    "# Seriesには名前を付けることも可能\n",
    "Series2.name = '東京都の区別人口(抜粋)'\n",
    "Series2"
   ]
  },
  {
   "cell_type": "code",
   "execution_count": 21,
   "metadata": {},
   "outputs": [
    {
     "data": {
      "text/plain": [
       "区名\n",
       "港区      253940.0\n",
       "新宿区     343494.0\n",
       "文京区     227224.0\n",
       "千代田区     61420.0\n",
       "中央区     157484.0\n",
       "杉並区          NaN\n",
       "Name: 東京都の区別人口(抜粋), dtype: float64"
      ]
     },
     "execution_count": 21,
     "metadata": {},
     "output_type": "execute_result"
    }
   ],
   "source": [
    "# ラベル(index)の名前も付けることが可能\n",
    "Series2.index.name = '区名'\n",
    "Series2"
   ]
  },
  {
   "cell_type": "code",
   "execution_count": null,
   "metadata": {},
   "outputs": [],
   "source": []
  }
 ],
 "metadata": {
  "kernelspec": {
   "display_name": "Python 3",
   "language": "python",
   "name": "python3"
  },
  "language_info": {
   "codemirror_mode": {
    "name": "ipython",
    "version": 3
   },
   "file_extension": ".py",
   "mimetype": "text/x-python",
   "name": "python",
   "nbconvert_exporter": "python",
   "pygments_lexer": "ipython3",
   "version": "3.6.6rc1"
  }
 },
 "nbformat": 4,
 "nbformat_minor": 1
}
